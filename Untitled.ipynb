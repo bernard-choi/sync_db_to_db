{
 "cells": [
  {
   "cell_type": "code",
   "execution_count": 3,
   "metadata": {
    "scrolled": true
   },
   "outputs": [
    {
     "name": "stdout",
     "output_type": "stream",
     "text": [
      "trying to read ople.rest_order \n",
      "completed\n",
      "trying to write ople.rest_order...\n",
      "completed\n",
      "trying primary key setting...\n",
      "completed\n"
     ]
    },
    {
     "name": "stderr",
     "output_type": "stream",
     "text": [
      "Exception during reset or similar\n",
      "Traceback (most recent call last):\n",
      "  File \"/home/tbop02/venv/lib64/python3.6/site-packages/pymysql/connections.py\", line 691, in _read_bytes\n",
      "    data = self._rfile.read(num_bytes)\n",
      "  File \"/usr/lib64/python3.6/socket.py\", line 586, in readinto\n",
      "    return self._sock.recv_into(b)\n",
      "TimeoutError: [Errno 110] Connection timed out\n",
      "\n",
      "During handling of the above exception, another exception occurred:\n",
      "\n",
      "Traceback (most recent call last):\n",
      "  File \"/home/tbop02/venv/lib64/python3.6/site-packages/sqlalchemy/pool/base.py\", line 680, in _finalize_fairy\n",
      "    fairy._reset(pool)\n",
      "  File \"/home/tbop02/venv/lib64/python3.6/site-packages/sqlalchemy/pool/base.py\", line 867, in _reset\n",
      "    pool._dialect.do_rollback(self)\n",
      "  File \"/home/tbop02/venv/lib64/python3.6/site-packages/sqlalchemy/dialects/mysql/base.py\", line 2241, in do_rollback\n",
      "    dbapi_connection.rollback()\n",
      "  File \"/home/tbop02/venv/lib64/python3.6/site-packages/pymysql/connections.py\", line 430, in rollback\n",
      "    self._read_ok_packet()\n",
      "  File \"/home/tbop02/venv/lib64/python3.6/site-packages/pymysql/connections.py\", line 394, in _read_ok_packet\n",
      "    pkt = self._read_packet()\n",
      "  File \"/home/tbop02/venv/lib64/python3.6/site-packages/pymysql/connections.py\", line 657, in _read_packet\n",
      "    packet_header = self._read_bytes(4)\n",
      "  File \"/home/tbop02/venv/lib64/python3.6/site-packages/pymysql/connections.py\", line 699, in _read_bytes\n",
      "    \"Lost connection to MySQL server during query (%s)\" % (e,))\n",
      "pymysql.err.OperationalError: (2013, 'Lost connection to MySQL server during query ([Errno 110] Connection timed out)')\n"
     ]
    },
    {
     "name": "stdout",
     "output_type": "stream",
     "text": [
      "backup completed\n"
     ]
    }
   ],
   "source": [
    "#!/usr/bin/env python\n",
    "# coding: utf-8\n",
    "\n",
    "import datetime\n",
    "import logging\n",
    "\n",
    "import pandas as pd\n",
    "\n",
    "from pyjin import pyjin\n",
    "from x_x import account_info as ai\n",
    "\n",
    "class Infor:\n",
    "        \n",
    "    table_list = []    \n",
    "    \n",
    "    table_list.append({\n",
    "        'db_from': 'ople',\n",
    "        'table_from' : 'rest_order',\n",
    "        'db_to' : 'ople',\n",
    "        'table_to' : 'rest_order',\n",
    "        'primary_key' : 'id'\n",
    "    })\n",
    "\n",
    "def get_query_alter_primary_key(db_name, table_name, primary_key):    \n",
    "    return \"ALTER TABLE {}.{} ADD PRIMARY KEY({})\".format(db_name, table_name, primary_key)\n",
    "\n",
    "def main(from_acc, to_acc):    \n",
    "    with pyjin.connectDB(**from_acc) as con_from, pyjin.connectDB(**to_acc) as con_to:        \n",
    "\n",
    "        for row in Infor.table_list:   \n",
    "                                 \n",
    "            # table read from table_from            \n",
    "            query='''\n",
    "                select * from {}.{}\n",
    "            '''.format(row['db_from'], row['table_from'])\n",
    "            \n",
    "            print(\"trying to read {}.{} \".format(row['db_from'],row['table_from']))\n",
    "            try:\n",
    "                pyjin.execute_query(con_from,\"SET SESSION TRANSACTION ISOLATION LEVEL READ UNCOMMITTED\")\n",
    "                df=pyjin.execute_query(con_from, query, output='df')\n",
    "                pyjin.execute_query(con_from,\"SET SESSION TRANSACTION ISOLATION LEVEL REPEATABLE READ\")\n",
    "                print('completed'.format(row['db_from'], row['table_from']))\n",
    "                \n",
    "            except Exception as e:\n",
    "                print(\"failed\", e)                \n",
    "            \n",
    "            ## table write\n",
    "            print(\"trying to write {}.{}...\".format(row['db_to'], row['table_to']))\n",
    "            try:\n",
    "                with con_to.begin():\n",
    "                    df.to_sql(row['table_to'], schema=row['db_to'], con=con_to, if_exists='replace', index=False, chunksize=10000) ## 큰 query 처리 불가능한 경우를 위해 chunksize 추가\n",
    "                print('completed')\n",
    "            except Exception as e:\n",
    "                print(\"failed\",e)                \n",
    "            \n",
    "            # primary key setting            \n",
    "            if row['primary_key'] is not None:                        \n",
    "                print('trying primary key setting...')\n",
    "                try:    \n",
    "                    query_alter_primary_key = get_query_alter_primary_key(row['db_to'], row['table_to'], row['primary_key'])\n",
    "                    pyjin.execute_query(con_to, query_alter_primary_key)\n",
    "                    print('completed')\n",
    "                except Exception as e:\n",
    "                    print('failed ',e)\n",
    "            \n",
    "    print('backup completed')        \n",
    "\n",
    "if __name__ == \"__main__\":  \n",
    "    # from , to\n",
    "    main(ai.analdb_sql_info(), ai.vmdb_sql_info())"
   ]
  }
 ],
 "metadata": {
  "kernelspec": {
   "display_name": "Python 3",
   "language": "python",
   "name": "python3"
  },
  "language_info": {
   "codemirror_mode": {
    "name": "ipython",
    "version": 3
   },
   "file_extension": ".py",
   "mimetype": "text/x-python",
   "name": "python",
   "nbconvert_exporter": "python",
   "pygments_lexer": "ipython3",
   "version": "3.6.8"
  }
 },
 "nbformat": 4,
 "nbformat_minor": 2
}
